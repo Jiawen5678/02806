{
 "cells": [
  {
   "cell_type": "code",
   "execution_count": null,
   "id": "723949c6-4c1e-4544-8130-551f76fa183b",
   "metadata": {},
   "outputs": [],
   "source": [
    "挲得分搜索"
   ]
  }
 ],
 "metadata": {
  "kernelspec": {
   "display_name": "Python 3",
   "language": "python",
   "name": "python3"
  },
  "language_info": {
   "codemirror_mode": {
    "name": "ipython",
    "version": 3
   },
   "file_extension": ".py",
   "mimetype": "text/x-python",
   "name": "python",
   "nbconvert_exporter": "python",
   "pygments_lexer": "ipython3",
   "version": "3.9.12"
  }
 },
 "nbformat": 4,
 "nbformat_minor": 5
}
